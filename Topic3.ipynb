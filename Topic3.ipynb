{
 "cells": [
  {
   "cell_type": "markdown",
   "metadata": {},
   "source": [
    "### Topic #3 Function, Basic Module, and Package"
   ]
  },
  {
   "cell_type": "markdown",
   "metadata": {},
   "source": [
    "#### 1.1 Function\n",
    "Function is a block reuseable code    "
   ]
  },
  {
   "cell_type": "code",
   "execution_count": 1,
   "metadata": {},
   "outputs": [],
   "source": [
    "def function_name(parameter):\n",
    "    \"docstring\" #documentatiom\n",
    "    statement(s) #operation or code"
   ]
  },
  {
   "cell_type": "code",
   "execution_count": 4,
   "metadata": {},
   "outputs": [],
   "source": [
    "def makeCoffee():\n",
    "    print(\"siapkan kopi\")\n",
    "    print(\"siapkan gelas\")\n",
    "    print(\"masukan air dan kopi\")\n",
    "    print(\"Jadi deh!\")"
   ]
  },
  {
   "cell_type": "code",
   "execution_count": 5,
   "metadata": {},
   "outputs": [
    {
     "name": "stdout",
     "output_type": "stream",
     "text": [
      "siapkan kopi\n",
      "siapkan gelas\n",
      "masukan air dan kopi\n",
      "Jadi deh!\n"
     ]
    }
   ],
   "source": [
    "makeCoffee()"
   ]
  },
  {
   "cell_type": "code",
   "execution_count": 6,
   "metadata": {},
   "outputs": [],
   "source": [
    "def my_function():\n",
    "    \"This prints astring\"\n",
    "    print(\"Hello World\")"
   ]
  },
  {
   "cell_type": "code",
   "execution_count": 7,
   "metadata": {},
   "outputs": [
    {
     "name": "stdout",
     "output_type": "stream",
     "text": [
      "Hello World\n"
     ]
    }
   ],
   "source": [
    "my_function()"
   ]
  },
  {
   "cell_type": "markdown",
   "metadata": {},
   "source": [
    "**Required Arguments**"
   ]
  },
  {
   "cell_type": "code",
   "execution_count": 2,
   "metadata": {},
   "outputs": [
    {
     "name": "stdout",
     "output_type": "stream",
     "text": [
      "i'm First Call to user defined function\n",
      "i'm Second Call to user defined function\n"
     ]
    }
   ],
   "source": [
    "def printMe(a):\n",
    "    print(a)\n",
    "    \"this print a passes string into this function\"\n",
    "    return;\n",
    "\n",
    "printMe(\"i'm First Call to user defined function\") #arguments\n",
    "printMe(\"i'm Second Call to user defined function\") #arguments"
   ]
  },
  {
   "cell_type": "markdown",
   "metadata": {},
   "source": [
    "**Keyword Arguments**"
   ]
  },
  {
   "cell_type": "code",
   "execution_count": 18,
   "metadata": {},
   "outputs": [
    {
     "name": "stdout",
     "output_type": "stream",
     "text": [
      "Name: 4\n",
      "Age: Hacktiv*\n",
      "Name: Almas\n",
      "Age: 10\n"
     ]
    }
   ],
   "source": [
    "def printInfo(name, age):\n",
    "    print(\"Name:\", name)\n",
    "    print(\"Age:\", age)\n",
    "    return\n",
    "\n",
    "printInfo(4, \"Hacktiv*\")\n",
    "printInfo(name=\"Almas\", age=10)"
   ]
  },
  {
   "cell_type": "markdown",
   "metadata": {},
   "source": [
    "**Default Arguments**"
   ]
  },
  {
   "cell_type": "code",
   "execution_count": 20,
   "metadata": {},
   "outputs": [
    {
     "name": "stdout",
     "output_type": "stream",
     "text": [
      "Name: Almas\n",
      "Age: 10\n",
      "Name: 4\n",
      "Age: 26\n"
     ]
    }
   ],
   "source": [
    "def printInfo(name, age = 26):\n",
    "    print(\"Name:\", name)\n",
    "    print(\"Age:\", age)\n",
    "    return\n",
    "\n",
    "printInfo(name=\"Almas\", age=10)\n",
    "printInfo(name=4)"
   ]
  },
  {
   "cell_type": "markdown",
   "metadata": {},
   "source": [
    "**Variable-length Arguments**\n",
    "\n",
    "an asterik (*) is placed before the variable name that hold the value of all nonkeyword variable arguments"
   ]
  },
  {
   "cell_type": "code",
   "execution_count": null,
   "metadata": {},
   "outputs": [],
   "source": [
    "def functionname([formal_args,]*var_args_tuple):\n",
    "    \"function_docstring\"\n",
    "     function_suite\n",
    "    return [expression]"
   ]
  },
  {
   "cell_type": "code",
   "execution_count": 4,
   "metadata": {},
   "outputs": [
    {
     "name": "stdout",
     "output_type": "stream",
     "text": [
      "The Younges kids is  H3\n"
     ]
    }
   ],
   "source": [
    "def my_function(*kids):\n",
    "    print(\"The Younges kids is \" + kids[2])\n",
    "    \n",
    "my_function(\"H1\", \" H2\", \" H3\")"
   ]
  },
  {
   "cell_type": "code",
   "execution_count": 3,
   "metadata": {},
   "outputs": [
    {
     "name": "stdout",
     "output_type": "stream",
     "text": [
      "Output is: \n",
      "20\n",
      "Output is: \n",
      "70\n",
      "60\n",
      "50\n",
      "40\n"
     ]
    }
   ],
   "source": [
    "def printInfo1(arg1, *vartuple ):\n",
    "    print(\"Output is: \")\n",
    "    print(arg1)\n",
    "    for var in vartuple:\n",
    "        print(var)\n",
    "    return;\n",
    "        \n",
    "# Now call printInfo1\n",
    "printInfo1(20)\n",
    "printInfo1(70,60,50,40)"
   ]
  },
  {
   "cell_type": "markdown",
   "metadata": {},
   "source": [
    "**The Anonymous Function**\n",
    "\n",
    "lambda [arg1[,arg2,....argn]]: expression -> lambda is for one line function"
   ]
  },
  {
   "cell_type": "code",
   "execution_count": 34,
   "metadata": {},
   "outputs": [
    {
     "name": "stdout",
     "output_type": "stream",
     "text": [
      "Value of Total:  30\n",
      "Value of Total:  40\n"
     ]
    }
   ],
   "source": [
    "sum = lambda arg1, arg2: arg1 + arg2;\n",
    "\n",
    "print(\"Value of Total: \", sum(10,20))\n",
    "print(\"Value of Total: \", sum(20,20))"
   ]
  },
  {
   "cell_type": "markdown",
   "metadata": {},
   "source": [
    "lambda function atau biasa dikenal dengan sebutan Anonymous Function yaitu merupakan sebuah fungsi yang tidak memiliki nama fungsi, lambda bukanlah sebuah perintah (statement) namun lambda tersebut merupakan sebuah ekpresi (expression) yang menjalankan sebuah perintah yang terdapat pada fungsi yang akan di pangil nantinya"
   ]
  },
  {
   "cell_type": "code",
   "execution_count": 1,
   "metadata": {},
   "outputs": [
    {
     "name": "stdout",
     "output_type": "stream",
     "text": [
      "125\n",
      "343\n"
     ]
    }
   ],
   "source": [
    "def cube(y):\n",
    "    return y*y*y;\n",
    "\n",
    "g = lambda x: x*x*x\n",
    "\n",
    "print(cube(5))\n",
    "\n",
    "print(g(7))"
   ]
  },
  {
   "cell_type": "markdown",
   "metadata": {},
   "source": [
    "**The Return Statement**"
   ]
  },
  {
   "cell_type": "code",
   "execution_count": 65,
   "metadata": {},
   "outputs": [
    {
     "name": "stdout",
     "output_type": "stream",
     "text": [
      "inside the Function:  30\n",
      "Outside the function : 600\n"
     ]
    }
   ],
   "source": [
    "def sum(arg1, arg2):\n",
    "    total = arg1 + arg2\n",
    "    total2 = total * arg2\n",
    "    print(\"inside the Function: \", total)\n",
    "    return(total2);\n",
    "\n",
    "total = sum(10,20);\n",
    "print(\"Outside the function :\", total)"
   ]
  },
  {
   "cell_type": "markdown",
   "metadata": {},
   "source": [
    "**Scope of Variable**\n",
    "1. Globar Variable (Placed outside the function)\n",
    "2. Local Variable (inside the function)"
   ]
  },
  {
   "cell_type": "code",
   "execution_count": 56,
   "metadata": {},
   "outputs": [],
   "source": [
    "jumlahKelinci = 20 #Global Variabel\n",
    "\n",
    "def jumlahA():\n",
    "    jumlahKucing = 30 #local Variable\n",
    "    print(jumlahKelinci + jumlahKucing)\n",
    "    \n",
    "def jumlahB():\n",
    "    jumlahAnjing = 10 #local Variable\n",
    "    print(jumlahKelinci + jumlahAnjing)"
   ]
  },
  {
   "cell_type": "code",
   "execution_count": 54,
   "metadata": {},
   "outputs": [
    {
     "name": "stdout",
     "output_type": "stream",
     "text": [
      "50\n"
     ]
    }
   ],
   "source": [
    "jumlahA()"
   ]
  },
  {
   "cell_type": "code",
   "execution_count": 55,
   "metadata": {},
   "outputs": [
    {
     "name": "stdout",
     "output_type": "stream",
     "text": [
      "30\n"
     ]
    }
   ],
   "source": [
    "jumlahB()"
   ]
  },
  {
   "cell_type": "code",
   "execution_count": 63,
   "metadata": {},
   "outputs": [
    {
     "name": "stdout",
     "output_type": "stream",
     "text": [
      "inside function local total:  30\n",
      "Outside funtion global total :  0\n"
     ]
    }
   ],
   "source": [
    "total = 0;\n",
    "\n",
    "def sum(arg1, arg2):\n",
    "    total = arg1 + arg2;\n",
    "    print (\"inside function local total: \", total)\n",
    "    return total;\n",
    "\n",
    "sum(10,20);\n",
    "print(\"Outside funtion global total : \", total)"
   ]
  },
  {
   "cell_type": "markdown",
   "metadata": {},
   "source": [
    "**Python Built in Fuction**\n",
    "\n",
    "find here : https://docs.python.org/3/library/functions.html"
   ]
  },
  {
   "cell_type": "markdown",
   "metadata": {},
   "source": [
    "### 1.2 Python Module\n",
    "\n",
    "a. module can be write in pythone itself\n",
    "\n",
    "b. module can be write in C\n",
    "\n",
    "c. built in instance"
   ]
  }
 ],
 "metadata": {
  "kernelspec": {
   "display_name": "Python 3",
   "language": "python",
   "name": "python3"
  },
  "language_info": {
   "codemirror_mode": {
    "name": "ipython",
    "version": 3
   },
   "file_extension": ".py",
   "mimetype": "text/x-python",
   "name": "python",
   "nbconvert_exporter": "python",
   "pygments_lexer": "ipython3",
   "version": "3.7.4"
  }
 },
 "nbformat": 4,
 "nbformat_minor": 2
}
